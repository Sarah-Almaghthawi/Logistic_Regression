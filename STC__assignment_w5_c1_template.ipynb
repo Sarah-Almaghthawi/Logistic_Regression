{
 "cells": [
  {
   "cell_type": "markdown",
   "metadata": {},
   "source": [
    "Week 5, Assignment C1:\n",
    "\n",
    "Logistic Regression with Yahoo! Finance API in Python\n",
    "\n",
    "In this notebook, we will study Logistic Regression using the Yahoo! Finance API in Python.\n",
    "\n",
    "Please complete the lines bellow where you see \"#TODO\"."
   ]
  },
  {
   "cell_type": "code",
   "execution_count": 1,
   "metadata": {},
   "outputs": [],
   "source": [
    "#Objective 1.\n",
    "#Use this cell to import the Numpy (as np), Pandas (as pd), and YFinance (as yf) packages.\n",
    "\n",
    "import numpy as np\n",
    "import pandas as pd\n",
    "import yfinance as yf \n",
    "import pandas_datareader as pdr\n",
    "\n",
    "#Our work will also require some components of the Sklearn and Pandas_Datareader packages as imported below:\n",
    "\n",
    "from sklearn.linear_model import LogisticRegression\n",
    "from sklearn import metrics\n",
    "from sklearn.model_selection import cross_val_score\n",
    "from pandas_datareader import data as pdr\n",
    "yf.pdr_override()"
   ]
  },
  {
   "cell_type": "code",
   "execution_count": 2,
   "metadata": {},
   "outputs": [],
   "source": [
    "#Objective 2.\n",
    "#Select a stock symbol for a stock whose historical data is available on the Yahoo! Finance website.  Store the\n",
    "#string of your chosen symbol to the new variable \"stock_symbol\".\n",
    "stock_symbol = \"STC\""
   ]
  },
  {
   "cell_type": "code",
   "execution_count": 3,
   "metadata": {},
   "outputs": [
    {
     "name": "stdout",
     "output_type": "stream",
     "text": [
      "[*********************100%***********************]  1 of 1 completed\n"
     ]
    },
    {
     "data": {
      "text/html": [
       "<div>\n",
       "<style scoped>\n",
       "    .dataframe tbody tr th:only-of-type {\n",
       "        vertical-align: middle;\n",
       "    }\n",
       "\n",
       "    .dataframe tbody tr th {\n",
       "        vertical-align: top;\n",
       "    }\n",
       "\n",
       "    .dataframe thead th {\n",
       "        text-align: right;\n",
       "    }\n",
       "</style>\n",
       "<table border=\"1\" class=\"dataframe\">\n",
       "  <thead>\n",
       "    <tr style=\"text-align: right;\">\n",
       "      <th></th>\n",
       "      <th>Open</th>\n",
       "      <th>High</th>\n",
       "      <th>Low</th>\n",
       "      <th>Close</th>\n",
       "    </tr>\n",
       "    <tr>\n",
       "      <th>Date</th>\n",
       "      <th></th>\n",
       "      <th></th>\n",
       "      <th></th>\n",
       "      <th></th>\n",
       "    </tr>\n",
       "  </thead>\n",
       "  <tbody>\n",
       "    <tr>\n",
       "      <th>2013-12-31</th>\n",
       "      <td>32.290001</td>\n",
       "      <td>32.389999</td>\n",
       "      <td>32.209999</td>\n",
       "      <td>32.270000</td>\n",
       "    </tr>\n",
       "    <tr>\n",
       "      <th>2014-01-02</th>\n",
       "      <td>32.360001</td>\n",
       "      <td>32.580002</td>\n",
       "      <td>32.000000</td>\n",
       "      <td>32.150002</td>\n",
       "    </tr>\n",
       "    <tr>\n",
       "      <th>2014-01-03</th>\n",
       "      <td>32.130001</td>\n",
       "      <td>32.980000</td>\n",
       "      <td>32.130001</td>\n",
       "      <td>32.860001</td>\n",
       "    </tr>\n",
       "    <tr>\n",
       "      <th>2014-01-06</th>\n",
       "      <td>33.000000</td>\n",
       "      <td>33.029999</td>\n",
       "      <td>32.810001</td>\n",
       "      <td>33.000000</td>\n",
       "    </tr>\n",
       "    <tr>\n",
       "      <th>2014-01-07</th>\n",
       "      <td>33.000000</td>\n",
       "      <td>33.209999</td>\n",
       "      <td>32.750000</td>\n",
       "      <td>32.930000</td>\n",
       "    </tr>\n",
       "    <tr>\n",
       "      <th>...</th>\n",
       "      <td>...</td>\n",
       "      <td>...</td>\n",
       "      <td>...</td>\n",
       "      <td>...</td>\n",
       "    </tr>\n",
       "    <tr>\n",
       "      <th>2020-12-24</th>\n",
       "      <td>48.410000</td>\n",
       "      <td>49.230000</td>\n",
       "      <td>48.200001</td>\n",
       "      <td>49.000000</td>\n",
       "    </tr>\n",
       "    <tr>\n",
       "      <th>2020-12-28</th>\n",
       "      <td>49.400002</td>\n",
       "      <td>49.950001</td>\n",
       "      <td>48.080002</td>\n",
       "      <td>48.330002</td>\n",
       "    </tr>\n",
       "    <tr>\n",
       "      <th>2020-12-29</th>\n",
       "      <td>48.419998</td>\n",
       "      <td>48.630001</td>\n",
       "      <td>48.040001</td>\n",
       "      <td>48.419998</td>\n",
       "    </tr>\n",
       "    <tr>\n",
       "      <th>2020-12-30</th>\n",
       "      <td>48.529999</td>\n",
       "      <td>48.959999</td>\n",
       "      <td>48.020000</td>\n",
       "      <td>48.209999</td>\n",
       "    </tr>\n",
       "    <tr>\n",
       "      <th>2020-12-31</th>\n",
       "      <td>48.150002</td>\n",
       "      <td>48.980000</td>\n",
       "      <td>47.750000</td>\n",
       "      <td>48.360001</td>\n",
       "    </tr>\n",
       "  </tbody>\n",
       "</table>\n",
       "<p>1764 rows × 4 columns</p>\n",
       "</div>"
      ],
      "text/plain": [
       "                 Open       High        Low      Close\n",
       "Date                                                  \n",
       "2013-12-31  32.290001  32.389999  32.209999  32.270000\n",
       "2014-01-02  32.360001  32.580002  32.000000  32.150002\n",
       "2014-01-03  32.130001  32.980000  32.130001  32.860001\n",
       "2014-01-06  33.000000  33.029999  32.810001  33.000000\n",
       "2014-01-07  33.000000  33.209999  32.750000  32.930000\n",
       "...               ...        ...        ...        ...\n",
       "2020-12-24  48.410000  49.230000  48.200001  49.000000\n",
       "2020-12-28  49.400002  49.950001  48.080002  48.330002\n",
       "2020-12-29  48.419998  48.630001  48.040001  48.419998\n",
       "2020-12-30  48.529999  48.959999  48.020000  48.209999\n",
       "2020-12-31  48.150002  48.980000  47.750000  48.360001\n",
       "\n",
       "[1764 rows x 4 columns]"
      ]
     },
     "execution_count": 3,
     "metadata": {},
     "output_type": "execute_result"
    }
   ],
   "source": [
    "#Objective 3.\n",
    "#Use the function \"pdr.get_data_yahoo(stock_symbol, start_date, end_date)\" to generate a Pandas dataframe of\n",
    "#historical stock data for your chosen stock.  Retain only the first four columns of the dataframe.  Be sure to \n",
    "#drop any rows containing NaN's, and take a peek at the resulting dataframe to make sure everything looks good.\n",
    "\n",
    "df = pdr.get_data_yahoo(stock_symbol, \"2014-1-1\", \"2021-1-1\")\n",
    "df = df[[\"Open\", \"High\", \"Low\", \"Close\"]]\n",
    "df = df.dropna()\n",
    "df"
   ]
  },
  {
   "cell_type": "code",
   "execution_count": 4,
   "metadata": {},
   "outputs": [
    {
     "data": {
      "text/html": [
       "<div>\n",
       "<style scoped>\n",
       "    .dataframe tbody tr th:only-of-type {\n",
       "        vertical-align: middle;\n",
       "    }\n",
       "\n",
       "    .dataframe tbody tr th {\n",
       "        vertical-align: top;\n",
       "    }\n",
       "\n",
       "    .dataframe thead th {\n",
       "        text-align: right;\n",
       "    }\n",
       "</style>\n",
       "<table border=\"1\" class=\"dataframe\">\n",
       "  <thead>\n",
       "    <tr style=\"text-align: right;\">\n",
       "      <th></th>\n",
       "      <th>Open</th>\n",
       "      <th>High</th>\n",
       "      <th>Low</th>\n",
       "      <th>Close</th>\n",
       "      <th>Close_15_Rolling</th>\n",
       "      <th>Open_1_Change</th>\n",
       "    </tr>\n",
       "    <tr>\n",
       "      <th>Date</th>\n",
       "      <th></th>\n",
       "      <th></th>\n",
       "      <th></th>\n",
       "      <th></th>\n",
       "      <th></th>\n",
       "      <th></th>\n",
       "    </tr>\n",
       "  </thead>\n",
       "  <tbody>\n",
       "    <tr>\n",
       "      <th>2014-01-22</th>\n",
       "      <td>34.439999</td>\n",
       "      <td>34.540001</td>\n",
       "      <td>34.060001</td>\n",
       "      <td>34.400002</td>\n",
       "      <td>33.192000</td>\n",
       "      <td>0.770000</td>\n",
       "    </tr>\n",
       "    <tr>\n",
       "      <th>2014-01-23</th>\n",
       "      <td>34.340000</td>\n",
       "      <td>34.340000</td>\n",
       "      <td>33.529999</td>\n",
       "      <td>33.740002</td>\n",
       "      <td>33.290000</td>\n",
       "      <td>-0.099998</td>\n",
       "    </tr>\n",
       "    <tr>\n",
       "      <th>2014-01-24</th>\n",
       "      <td>33.480000</td>\n",
       "      <td>33.930000</td>\n",
       "      <td>32.220001</td>\n",
       "      <td>32.950001</td>\n",
       "      <td>33.343334</td>\n",
       "      <td>-0.860001</td>\n",
       "    </tr>\n",
       "    <tr>\n",
       "      <th>2014-01-27</th>\n",
       "      <td>33.020000</td>\n",
       "      <td>33.070000</td>\n",
       "      <td>32.590000</td>\n",
       "      <td>32.680000</td>\n",
       "      <td>33.331334</td>\n",
       "      <td>-0.459999</td>\n",
       "    </tr>\n",
       "    <tr>\n",
       "      <th>2014-01-28</th>\n",
       "      <td>32.680000</td>\n",
       "      <td>33.630001</td>\n",
       "      <td>32.439999</td>\n",
       "      <td>33.560001</td>\n",
       "      <td>33.368667</td>\n",
       "      <td>-0.340000</td>\n",
       "    </tr>\n",
       "    <tr>\n",
       "      <th>...</th>\n",
       "      <td>...</td>\n",
       "      <td>...</td>\n",
       "      <td>...</td>\n",
       "      <td>...</td>\n",
       "      <td>...</td>\n",
       "      <td>...</td>\n",
       "    </tr>\n",
       "    <tr>\n",
       "      <th>2020-12-24</th>\n",
       "      <td>48.410000</td>\n",
       "      <td>49.230000</td>\n",
       "      <td>48.200001</td>\n",
       "      <td>49.000000</td>\n",
       "      <td>48.546666</td>\n",
       "      <td>-0.209999</td>\n",
       "    </tr>\n",
       "    <tr>\n",
       "      <th>2020-12-28</th>\n",
       "      <td>49.400002</td>\n",
       "      <td>49.950001</td>\n",
       "      <td>48.080002</td>\n",
       "      <td>48.330002</td>\n",
       "      <td>48.670000</td>\n",
       "      <td>0.990002</td>\n",
       "    </tr>\n",
       "    <tr>\n",
       "      <th>2020-12-29</th>\n",
       "      <td>48.419998</td>\n",
       "      <td>48.630001</td>\n",
       "      <td>48.040001</td>\n",
       "      <td>48.419998</td>\n",
       "      <td>48.800000</td>\n",
       "      <td>-0.980003</td>\n",
       "    </tr>\n",
       "    <tr>\n",
       "      <th>2020-12-30</th>\n",
       "      <td>48.529999</td>\n",
       "      <td>48.959999</td>\n",
       "      <td>48.020000</td>\n",
       "      <td>48.209999</td>\n",
       "      <td>48.876000</td>\n",
       "      <td>0.110001</td>\n",
       "    </tr>\n",
       "    <tr>\n",
       "      <th>2020-12-31</th>\n",
       "      <td>48.150002</td>\n",
       "      <td>48.980000</td>\n",
       "      <td>47.750000</td>\n",
       "      <td>48.360001</td>\n",
       "      <td>48.946666</td>\n",
       "      <td>-0.379997</td>\n",
       "    </tr>\n",
       "  </tbody>\n",
       "</table>\n",
       "<p>1750 rows × 6 columns</p>\n",
       "</div>"
      ],
      "text/plain": [
       "                 Open       High        Low      Close  Close_15_Rolling  \\\n",
       "Date                                                                       \n",
       "2014-01-22  34.439999  34.540001  34.060001  34.400002         33.192000   \n",
       "2014-01-23  34.340000  34.340000  33.529999  33.740002         33.290000   \n",
       "2014-01-24  33.480000  33.930000  32.220001  32.950001         33.343334   \n",
       "2014-01-27  33.020000  33.070000  32.590000  32.680000         33.331334   \n",
       "2014-01-28  32.680000  33.630001  32.439999  33.560001         33.368667   \n",
       "...               ...        ...        ...        ...               ...   \n",
       "2020-12-24  48.410000  49.230000  48.200001  49.000000         48.546666   \n",
       "2020-12-28  49.400002  49.950001  48.080002  48.330002         48.670000   \n",
       "2020-12-29  48.419998  48.630001  48.040001  48.419998         48.800000   \n",
       "2020-12-30  48.529999  48.959999  48.020000  48.209999         48.876000   \n",
       "2020-12-31  48.150002  48.980000  47.750000  48.360001         48.946666   \n",
       "\n",
       "            Open_1_Change  \n",
       "Date                       \n",
       "2014-01-22       0.770000  \n",
       "2014-01-23      -0.099998  \n",
       "2014-01-24      -0.860001  \n",
       "2014-01-27      -0.459999  \n",
       "2014-01-28      -0.340000  \n",
       "...                   ...  \n",
       "2020-12-24      -0.209999  \n",
       "2020-12-28       0.990002  \n",
       "2020-12-29      -0.980003  \n",
       "2020-12-30       0.110001  \n",
       "2020-12-31      -0.379997  \n",
       "\n",
       "[1750 rows x 6 columns]"
      ]
     },
     "execution_count": 4,
     "metadata": {},
     "output_type": "execute_result"
    }
   ],
   "source": [
    "#Objective 4.\n",
    "#Use the historical data to define some predictor variables.  Add these variables to the dataframe.  Include, at a\n",
    "#minimum, (Predictor.I) the rolling average closing price over the past fifteen (15) days and (Predictor.II) the\n",
    "#change in opening price over the past one (1) day.  Be sure to again drop any rows containing NaN's, and take a\n",
    "#peek at the resulting dataframe to make sure everything looks good.  Store the dataframe as the new variable \"X\".\n",
    "\n",
    "df['Close_15_Rolling'] = df['Close'].rolling(window=15).mean()\n",
    "df['Open_1_Change'] = df[\"Open\"].diff()\n",
    "df = df.dropna()\n",
    "X = df[[\"Open\", \"High\", \"Low\", \"Close\",\"Close_15_Rolling\", \"Open_1_Change\"]]\n",
    "X"
   ]
  },
  {
   "cell_type": "code",
   "execution_count": 5,
   "metadata": {},
   "outputs": [
    {
     "data": {
      "text/plain": [
       "array([-1, -1, -1, ..., -1,  1, -1])"
      ]
     },
     "execution_count": 5,
     "metadata": {},
     "output_type": "execute_result"
    }
   ],
   "source": [
    "#Objective 5.\n",
    "#Define the target or dependent variable to be one (1) if the change in closing price over the past one (1) day is\n",
    "#nonnegative and negative one (-1) if the change in closing price over the past one (1) day is negative.  This\n",
    "#variable's values should be forward-looking (i.e., you should subtract today's price from tomorrow's price rather\n",
    "#than subtracting yesterday's price from today's price).  Store the resulting values as the new variable \"y\".  You\n",
    "#may find the \"np.where(*args)\" function to be useful.  Look it up in Numpy documentation for support.\n",
    "\n",
    "y = np.where(-df[\"Close\"].diff(-1) > 0, 1, -1)\n",
    "y"
   ]
  },
  {
   "cell_type": "code",
   "execution_count": 6,
   "metadata": {},
   "outputs": [
    {
     "name": "stdout",
     "output_type": "stream",
     "text": [
      "(1225, 6) (1225,) (525, 6) (525,)\n"
     ]
    }
   ],
   "source": [
    "#Objective 6.\n",
    "#Split the data into training and test sets, putting the first seventy percent (70%) of the data in the training\n",
    "#set.\n",
    "\n",
    "index = int(0.7*len(X))\n",
    "X_train, X_test, y_train, y_test = X[:index], X[index:], y[:index], y[index:]\n",
    "print(X_train.shape, y_train.shape, X_test.shape, y_test.shape)"
   ]
  },
  {
   "cell_type": "code",
   "execution_count": 7,
   "metadata": {},
   "outputs": [],
   "source": [
    "#Objective 7.\n",
    "#Instantiate the Logistic Regression model object, and use its \".fit(*args)\" method to fit the model to the \n",
    "#training data.\n",
    "\n",
    "logistic = LogisticRegression()\n",
    "logistic = logistic.fit(X_train, y_train)"
   ]
  },
  {
   "cell_type": "code",
   "execution_count": 8,
   "metadata": {},
   "outputs": [
    {
     "data": {
      "text/html": [
       "<div>\n",
       "<style scoped>\n",
       "    .dataframe tbody tr th:only-of-type {\n",
       "        vertical-align: middle;\n",
       "    }\n",
       "\n",
       "    .dataframe tbody tr th {\n",
       "        vertical-align: top;\n",
       "    }\n",
       "\n",
       "    .dataframe thead th {\n",
       "        text-align: right;\n",
       "    }\n",
       "</style>\n",
       "<table border=\"1\" class=\"dataframe\">\n",
       "  <thead>\n",
       "    <tr style=\"text-align: right;\">\n",
       "      <th></th>\n",
       "      <th>0</th>\n",
       "      <th>1</th>\n",
       "    </tr>\n",
       "  </thead>\n",
       "  <tbody>\n",
       "    <tr>\n",
       "      <th>0</th>\n",
       "      <td>Open</td>\n",
       "      <td>[-0.17458409340209613]</td>\n",
       "    </tr>\n",
       "    <tr>\n",
       "      <th>1</th>\n",
       "      <td>High</td>\n",
       "      <td>[0.04111767927207414]</td>\n",
       "    </tr>\n",
       "    <tr>\n",
       "      <th>2</th>\n",
       "      <td>Low</td>\n",
       "      <td>[0.2659167739644828]</td>\n",
       "    </tr>\n",
       "    <tr>\n",
       "      <th>3</th>\n",
       "      <td>Close</td>\n",
       "      <td>[-0.1446452492518976]</td>\n",
       "    </tr>\n",
       "    <tr>\n",
       "      <th>4</th>\n",
       "      <td>Close_15_Rolling</td>\n",
       "      <td>[-0.008029132665836058]</td>\n",
       "    </tr>\n",
       "    <tr>\n",
       "      <th>5</th>\n",
       "      <td>Open_1_Change</td>\n",
       "      <td>[0.15461262745050716]</td>\n",
       "    </tr>\n",
       "  </tbody>\n",
       "</table>\n",
       "</div>"
      ],
      "text/plain": [
       "                  0                        1\n",
       "0              Open   [-0.17458409340209613]\n",
       "1              High    [0.04111767927207414]\n",
       "2               Low     [0.2659167739644828]\n",
       "3             Close    [-0.1446452492518976]\n",
       "4  Close_15_Rolling  [-0.008029132665836058]\n",
       "5     Open_1_Change    [0.15461262745050716]"
      ]
     },
     "execution_count": 8,
     "metadata": {},
     "output_type": "execute_result"
    }
   ],
   "source": [
    "#Objective 8.\n",
    "#Examine the model's coefficients by using its \".coef_\" method.\n",
    "\n",
    "pd.DataFrame(zip(X.columns, np.transpose(logistic.coef_)))"
   ]
  },
  {
   "cell_type": "code",
   "execution_count": 9,
   "metadata": {},
   "outputs": [
    {
     "name": "stdout",
     "output_type": "stream",
     "text": [
      "[[0.52626633 0.47373367]\n",
      " [0.50300692 0.49699308]\n",
      " [0.53877073 0.46122927]\n",
      " ...\n",
      " [0.59279844 0.40720156]\n",
      " [0.54691327 0.45308673]\n",
      " [0.57220782 0.42779218]]\n",
      "[-1 -1 -1 -1 -1 -1  1 -1 -1 -1 -1 -1 -1 -1 -1  1 -1 -1 -1 -1 -1 -1  1  1\n",
      " -1  1 -1  1 -1 -1 -1 -1 -1 -1 -1 -1 -1 -1 -1 -1 -1 -1 -1 -1 -1 -1 -1 -1\n",
      " -1 -1 -1 -1 -1 -1 -1 -1  1 -1 -1  1 -1 -1 -1 -1 -1 -1 -1 -1 -1 -1 -1 -1\n",
      " -1 -1 -1  1 -1 -1 -1 -1 -1 -1 -1 -1 -1 -1 -1 -1 -1  1 -1 -1 -1 -1 -1 -1\n",
      " -1 -1 -1 -1  1 -1 -1 -1 -1 -1 -1 -1 -1 -1 -1 -1 -1 -1 -1 -1 -1 -1 -1 -1\n",
      " -1 -1 -1 -1 -1  1 -1 -1 -1 -1 -1 -1 -1 -1 -1 -1 -1  1 -1 -1 -1 -1 -1 -1\n",
      "  1 -1 -1 -1 -1  1  1 -1 -1  1 -1  1 -1 -1 -1 -1 -1 -1 -1  1 -1  1 -1 -1\n",
      "  1  1  1  1 -1 -1 -1  1 -1  1  1 -1  1  1 -1 -1  1 -1  1  1  1  1  1 -1\n",
      " -1 -1 -1 -1 -1  1  1  1  1  1  1  1  1  1  1  1  1 -1 -1  1  1  1 -1 -1\n",
      "  1 -1  1  1  1  1  1 -1  1 -1  1 -1 -1  1 -1  1 -1 -1  1 -1  1 -1 -1 -1\n",
      "  1  1 -1 -1 -1 -1 -1 -1  1 -1 -1 -1 -1 -1 -1  1 -1  1 -1 -1 -1 -1 -1  1\n",
      " -1 -1 -1 -1 -1 -1 -1 -1 -1 -1 -1 -1 -1  1 -1 -1 -1 -1 -1  1 -1 -1 -1  1\n",
      " -1  1 -1 -1  1 -1  1 -1 -1 -1 -1 -1  1 -1 -1 -1 -1 -1 -1 -1 -1 -1 -1 -1\n",
      " -1  1 -1 -1 -1 -1 -1 -1 -1 -1 -1 -1 -1 -1  1  1  1  1  1  1 -1  1  1  1\n",
      "  1  1  1  1  1  1  1 -1  1  1  1  1  1  1  1  1  1  1 -1  1 -1  1 -1  1\n",
      "  1  1  1 -1 -1  1  1  1  1  1  1  1  1  1 -1  1  1  1 -1  1 -1  1 -1 -1\n",
      " -1 -1  1 -1  1  1  1  1 -1 -1  1  1  1  1  1 -1  1  1  1 -1  1 -1  1  1\n",
      "  1  1  1  1  1 -1 -1  1 -1 -1 -1 -1 -1 -1 -1 -1  1 -1 -1 -1 -1 -1 -1  1\n",
      " -1  1  1 -1 -1 -1 -1 -1 -1  1 -1 -1 -1  1 -1 -1 -1 -1 -1 -1 -1 -1 -1 -1\n",
      " -1  1  1 -1 -1 -1 -1  1 -1 -1 -1 -1 -1 -1 -1 -1 -1 -1 -1 -1 -1 -1 -1 -1\n",
      " -1 -1 -1 -1 -1 -1  1 -1 -1 -1 -1 -1 -1 -1 -1 -1 -1 -1 -1 -1 -1 -1 -1 -1\n",
      " -1 -1 -1 -1 -1 -1 -1  1 -1 -1  1 -1 -1 -1 -1 -1 -1 -1 -1 -1 -1]\n"
     ]
    }
   ],
   "source": [
    "#Objective 9.\n",
    "#Use the model's \".predict_proba(*args)\" and \".predict(*args)\" methods to generate predictions over the test set.\n",
    "\n",
    "probabilities = logistic.predict_proba(X_test)\n",
    "predictions = logistic.predict(X_test)\n",
    "print(probabilities)\n",
    "print(predictions)"
   ]
  },
  {
   "cell_type": "code",
   "execution_count": 10,
   "metadata": {},
   "outputs": [
    {
     "name": "stdout",
     "output_type": "stream",
     "text": [
      "[[184  71]\n",
      " [185  85]]\n"
     ]
    }
   ],
   "source": [
    "#Objective 10.\n",
    "#Use the function \"metrics.confusion_matrix(*args)\" to create a confusion matrix comparing the predicted and true\n",
    "#classification labels over the test set.\n",
    "\n",
    "print(metrics.confusion_matrix(y_test, predictions))"
   ]
  },
  {
   "cell_type": "code",
   "execution_count": 11,
   "metadata": {},
   "outputs": [
    {
     "data": {
      "text/plain": [
       "0.5123809523809524"
      ]
     },
     "execution_count": 11,
     "metadata": {},
     "output_type": "execute_result"
    }
   ],
   "source": [
    "#Objective 11.\n",
    "#Calculate the model's accuracy on the test set using its \".score(*args)\" method.\n",
    "\n",
    "logistic.score(X_test, y_test)"
   ]
  },
  {
   "cell_type": "code",
   "execution_count": 12,
   "metadata": {},
   "outputs": [
    {
     "name": "stdout",
     "output_type": "stream",
     "text": [
      "[0.46666667 0.55238095 0.51428571 0.54285714 0.4952381 ]\n",
      "0.5142857142857142\n"
     ]
    },
    {
     "name": "stderr",
     "output_type": "stream",
     "text": [
      "C:\\Users\\DELL\\anaconda3\\lib\\site-packages\\sklearn\\linear_model\\_logistic.py:763: ConvergenceWarning: lbfgs failed to converge (status=1):\n",
      "STOP: TOTAL NO. of ITERATIONS REACHED LIMIT.\n",
      "\n",
      "Increase the number of iterations (max_iter) or scale the data as shown in:\n",
      "    https://scikit-learn.org/stable/modules/preprocessing.html\n",
      "Please also refer to the documentation for alternative solver options:\n",
      "    https://scikit-learn.org/stable/modules/linear_model.html#logistic-regression\n",
      "  n_iter_i = _check_optimize_result(\n"
     ]
    }
   ],
   "source": [
    "#Objective 12.\n",
    "#Use five-fold cross validation to cross-check the accuracy of the model over different held-out test sets.  This\n",
    "#is where you should use the function \"cross_val_score(*args)\".\n",
    "\n",
    "cross_val = cross_val_score(logistic ,X_test, y_test)\n",
    "print(cross_val)\n",
    "print(cross_val.mean())"
   ]
  },
  {
   "cell_type": "code",
   "execution_count": null,
   "metadata": {},
   "outputs": [],
   "source": []
  }
 ],
 "metadata": {
  "kernelspec": {
   "display_name": "Python 3",
   "language": "python",
   "name": "python3"
  },
  "language_info": {
   "codemirror_mode": {
    "name": "ipython",
    "version": 3
   },
   "file_extension": ".py",
   "mimetype": "text/x-python",
   "name": "python",
   "nbconvert_exporter": "python",
   "pygments_lexer": "ipython3",
   "version": "3.8.8"
  }
 },
 "nbformat": 4,
 "nbformat_minor": 4
}
